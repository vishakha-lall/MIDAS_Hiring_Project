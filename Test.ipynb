{
 "cells": [
  {
   "cell_type": "code",
   "execution_count": 10,
   "metadata": {},
   "outputs": [],
   "source": [
    "import requests\n",
    "files = {'upload_file':open('file.txt','rb')}\n",
    "r = requests.post('http://cryptic-earth-17134.herokuapp.com/automated_testing', files=files)"
   ]
  },
  {
   "cell_type": "code",
   "execution_count": 11,
   "metadata": {},
   "outputs": [
    {
     "data": {
      "text/plain": [
       "b'{\"https://www.reddit.com/r/india/comments/djperg/hello_rindia_ns_please_dont_sacrifice_your_life/\\\\r\\\\n\":\"Non-Political\",\"https://www.reddit.com/r/india/comments/g6z6ly/recreation_of_humanity_artist_hasif_khan/\":\"Coronavirus\"}\\n'"
      ]
     },
     "execution_count": 11,
     "metadata": {},
     "output_type": "execute_result"
    }
   ],
   "source": [
    "r.content"
   ]
  },
  {
   "cell_type": "code",
   "execution_count": 12,
   "metadata": {},
   "outputs": [
    {
     "data": {
      "text/plain": [
       "{'https://www.reddit.com/r/india/comments/djperg/hello_rindia_ns_please_dont_sacrifice_your_life/\\r\\n': 'Non-Political',\n",
       " 'https://www.reddit.com/r/india/comments/g6z6ly/recreation_of_humanity_artist_hasif_khan/': 'Coronavirus'}"
      ]
     },
     "execution_count": 12,
     "metadata": {},
     "output_type": "execute_result"
    }
   ],
   "source": [
    "r.json()"
   ]
  },
  {
   "cell_type": "code",
   "execution_count": null,
   "metadata": {},
   "outputs": [],
   "source": []
  }
 ],
 "metadata": {
  "kernelspec": {
   "display_name": "Python 3",
   "language": "python",
   "name": "python3"
  },
  "language_info": {
   "codemirror_mode": {
    "name": "ipython",
    "version": 3
   },
   "file_extension": ".py",
   "mimetype": "text/x-python",
   "name": "python",
   "nbconvert_exporter": "python",
   "pygments_lexer": "ipython3",
   "version": "3.7.4"
  }
 },
 "nbformat": 4,
 "nbformat_minor": 2
}
